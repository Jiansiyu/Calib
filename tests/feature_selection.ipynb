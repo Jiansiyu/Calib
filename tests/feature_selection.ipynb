{
 "cells": [
  {
   "cell_type": "code",
   "execution_count": 2,
   "metadata": {
    "collapsed": true
   },
   "outputs": [],
   "source": [
    "from sklearn.feature_selection import SelectKBest\n",
    "from sklearn.feature_selection import SelectFromModel\n",
    "from sklearn.ensemble import RandomForestRegressor\n",
    "import os\n",
    "from pandas import DataFrame"
   ]
  },
  {
   "cell_type": "code",
   "execution_count": 3,
   "outputs": [],
   "source": [
    "import pandas as pd\n",
    "\n",
    "optfileList = ['../data/CRex/RHRS/CRex_DataSet_21743.csv',\n",
    "               '../data/CRex/RHRS/CRex_DataSet_21744.csv',\n",
    "               '../data/CRex/RHRS/CRex_DataSet_21748.csv',\n",
    "               '../data/CRex/RHRS/CRex_DataSet_21749.csv',\n",
    "               '../data/CRex/RHRS/CRex_DataSet_21752.csv',\n",
    "               '../data/CRex/RHRS/CRex_DataSet_21753.csv',\n",
    "               '../data/CRex/RHRS/CRex_DataSet_21754.csv',\n",
    "               '../data/CRex/RHRS/CRex_DataSet_21755.csv',\n",
    "               '../data/CRex/RHRS/CRex_DataSet_21756.csv',\n",
    "               '../data/CRex/RHRS/CRex_DataSet_21757.csv',\n",
    "               '../data/CRex/RHRS/CRex_DataSet_21768.csv',\n",
    "               '../data/CRex/RHRS/CRex_DataSet_21769.csv',\n",
    "               '../data/CRex/RHRS/CRex_DataSet_21770.csv',\n",
    "               '../data/CRex/RHRS/CRex_DataSet_21771.csv',\n",
    "               '../data/CRex/RHRS/CRex_DataSet_21772.csv',\n",
    "               '../data/CRex/RHRS/CRex_DataSet_21781.csv',\n",
    "               '../data/CRex/RHRS/CRex_DataSet_21782.csv',\n",
    "               '../data/CRex/RHRS/CRex_DataSet_21783.csv',\n",
    "               '../data/CRex/RHRS/CRex_DataSet_21784.csv',\n",
    "               '../data/CRex/RHRS/CRex_DataSet_21785.csv',\n",
    "               ]\n",
    "\n",
    "data =  pd.read_csv('../data/CRex/RHRS/CRex_DataSet_21743.csv')\n"
   ],
   "metadata": {
    "collapsed": false,
    "pycharm": {
     "name": "#%%\n"
    }
   }
  },
  {
   "cell_type": "code",
   "execution_count": 4,
   "outputs": [
    {
     "data": {
      "text/plain": "        focal_x   focal_y  focal_th  focal_ph  targCalTh  targCalPh\n0     -0.301587  0.016011  0.012192  0.000739  -0.029615  -0.006545\n1     -0.037429 -0.007679  0.001400  0.011046  -0.009243   0.008405\n2     -0.283216  0.012550  0.004096 -0.000475  -0.016034  -0.006545\n3     -0.249758  0.006722 -0.003607  0.006061  -0.002452  -0.000295\n4     -0.163223  0.010093 -0.018091  0.009351   0.024711  -0.000295\n...         ...       ...       ...       ...        ...        ...\n19406 -0.048969  0.027085  0.003012 -0.015183  -0.009243  -0.022169\n19407 -0.050548  0.026683  0.002689 -0.015877  -0.009243  -0.022169\n19408 -0.097982  0.026277  0.002064 -0.016649  -0.009243  -0.022169\n19409 -0.051081  0.026447  0.003396 -0.014656  -0.009243  -0.022169\n19410 -0.050464  0.025822  0.002182 -0.015072  -0.009243  -0.022169\n\n[19411 rows x 6 columns]",
      "text/html": "<div>\n<style scoped>\n    .dataframe tbody tr th:only-of-type {\n        vertical-align: middle;\n    }\n\n    .dataframe tbody tr th {\n        vertical-align: top;\n    }\n\n    .dataframe thead th {\n        text-align: right;\n    }\n</style>\n<table border=\"1\" class=\"dataframe\">\n  <thead>\n    <tr style=\"text-align: right;\">\n      <th></th>\n      <th>focal_x</th>\n      <th>focal_y</th>\n      <th>focal_th</th>\n      <th>focal_ph</th>\n      <th>targCalTh</th>\n      <th>targCalPh</th>\n    </tr>\n  </thead>\n  <tbody>\n    <tr>\n      <th>0</th>\n      <td>-0.301587</td>\n      <td>0.016011</td>\n      <td>0.012192</td>\n      <td>0.000739</td>\n      <td>-0.029615</td>\n      <td>-0.006545</td>\n    </tr>\n    <tr>\n      <th>1</th>\n      <td>-0.037429</td>\n      <td>-0.007679</td>\n      <td>0.001400</td>\n      <td>0.011046</td>\n      <td>-0.009243</td>\n      <td>0.008405</td>\n    </tr>\n    <tr>\n      <th>2</th>\n      <td>-0.283216</td>\n      <td>0.012550</td>\n      <td>0.004096</td>\n      <td>-0.000475</td>\n      <td>-0.016034</td>\n      <td>-0.006545</td>\n    </tr>\n    <tr>\n      <th>3</th>\n      <td>-0.249758</td>\n      <td>0.006722</td>\n      <td>-0.003607</td>\n      <td>0.006061</td>\n      <td>-0.002452</td>\n      <td>-0.000295</td>\n    </tr>\n    <tr>\n      <th>4</th>\n      <td>-0.163223</td>\n      <td>0.010093</td>\n      <td>-0.018091</td>\n      <td>0.009351</td>\n      <td>0.024711</td>\n      <td>-0.000295</td>\n    </tr>\n    <tr>\n      <th>...</th>\n      <td>...</td>\n      <td>...</td>\n      <td>...</td>\n      <td>...</td>\n      <td>...</td>\n      <td>...</td>\n    </tr>\n    <tr>\n      <th>19406</th>\n      <td>-0.048969</td>\n      <td>0.027085</td>\n      <td>0.003012</td>\n      <td>-0.015183</td>\n      <td>-0.009243</td>\n      <td>-0.022169</td>\n    </tr>\n    <tr>\n      <th>19407</th>\n      <td>-0.050548</td>\n      <td>0.026683</td>\n      <td>0.002689</td>\n      <td>-0.015877</td>\n      <td>-0.009243</td>\n      <td>-0.022169</td>\n    </tr>\n    <tr>\n      <th>19408</th>\n      <td>-0.097982</td>\n      <td>0.026277</td>\n      <td>0.002064</td>\n      <td>-0.016649</td>\n      <td>-0.009243</td>\n      <td>-0.022169</td>\n    </tr>\n    <tr>\n      <th>19409</th>\n      <td>-0.051081</td>\n      <td>0.026447</td>\n      <td>0.003396</td>\n      <td>-0.014656</td>\n      <td>-0.009243</td>\n      <td>-0.022169</td>\n    </tr>\n    <tr>\n      <th>19410</th>\n      <td>-0.050464</td>\n      <td>0.025822</td>\n      <td>0.002182</td>\n      <td>-0.015072</td>\n      <td>-0.009243</td>\n      <td>-0.022169</td>\n    </tr>\n  </tbody>\n</table>\n<p>19411 rows × 6 columns</p>\n</div>"
     },
     "execution_count": 4,
     "metadata": {},
     "output_type": "execute_result"
    }
   ],
   "source": [
    "selected_feature = ['focal_x','focal_y','focal_th','focal_ph']\n",
    "targetTheta = ['targCalTh']\n",
    "targetPhi = ['targCalPh']\n",
    "data=data[selected_feature + targetTheta + targetPhi]\n",
    "\n",
    "data"
   ],
   "metadata": {
    "collapsed": false,
    "pycharm": {
     "name": "#%%\n"
    }
   }
  },
  {
   "cell_type": "code",
   "execution_count": 5,
   "outputs": [],
   "source": [
    "from SpectroCalib.feature_engineer._preprocess import PolynomialFeatureTransformer\n",
    "from sklearn.pipeline import Pipeline"
   ],
   "metadata": {
    "collapsed": false,
    "pycharm": {
     "name": "#%%\n"
    }
   }
  },
  {
   "cell_type": "code",
   "execution_count": 6,
   "outputs": [],
   "source": [
    "fullpipeline = Pipeline([('poly',PolynomialFeatureTransformer(columns = selected_feature))])\n",
    "\n",
    "transformed = fullpipeline.fit_transform(data)\n",
    "\n",
    "\n",
    "trans_Theta = transformed[targetTheta]\n",
    "trans_Phi   = transformed[targetPhi]\n",
    "trans_X = transformed.drop(targetTheta + targetPhi,axis=1)"
   ],
   "metadata": {
    "collapsed": false,
    "pycharm": {
     "name": "#%%\n"
    }
   }
  },
  {
   "cell_type": "markdown",
   "source": [
    "## feature selection"
   ],
   "metadata": {
    "collapsed": false,
    "pycharm": {
     "name": "#%% md\n"
    }
   },
   "execution_count": 24
  },
  {
   "cell_type": "code",
   "execution_count": 21,
   "outputs": [
    {
     "name": "stderr",
     "output_type": "stream",
     "text": [
      "/home/newdriver/Work/research/Calib/venv/lib/python3.8/site-packages/sklearn/utils/validation.py:63: DataConversionWarning: A column-vector y was passed when a 1d array was expected. Please change the shape of y to (n_samples, ), for example using ravel().\n",
      "  return f(*args, **kwargs)\n",
      "/home/newdriver/Work/research/Calib/venv/lib/python3.8/site-packages/sklearn/feature_selection/_univariate_selection.py:302: RuntimeWarning: divide by zero encountered in true_divide\n",
      "  corr /= X_norms\n",
      "/home/newdriver/Work/research/Calib/venv/lib/python3.8/site-packages/sklearn/feature_selection/_univariate_selection.py:307: RuntimeWarning: invalid value encountered in true_divide\n",
      "  F = corr ** 2 / (1 - corr ** 2) * degrees_of_freedom\n",
      "/home/newdriver/Work/research/Calib/venv/lib/python3.8/site-packages/sklearn/utils/validation.py:63: DataConversionWarning: A column-vector y was passed when a 1d array was expected. Please change the shape of y to (n_samples, ), for example using ravel().\n",
      "  return f(*args, **kwargs)\n",
      "/home/newdriver/Work/research/Calib/venv/lib/python3.8/site-packages/sklearn/feature_selection/_univariate_selection.py:302: RuntimeWarning: divide by zero encountered in true_divide\n",
      "  corr /= X_norms\n",
      "/home/newdriver/Work/research/Calib/venv/lib/python3.8/site-packages/sklearn/feature_selection/_univariate_selection.py:307: RuntimeWarning: invalid value encountered in true_divide\n",
      "  F = corr ** 2 / (1 - corr ** 2) * degrees_of_freedom\n"
     ]
    }
   ],
   "source": [
    "#TODO need to move a seperate class\n",
    "\n",
    "from sklearn.feature_selection import  SelectKBest, f_regression, mutual_info_regression\n",
    "\n",
    "transformed_theta_feature = SelectKBest(f_regression,k=30).fit(trans_X,trans_Theta)\n",
    "transformed_phi_feature   = SelectKBest(f_regression,k=30).fit(trans_X,trans_Phi)\n",
    "\n",
    "theta_index = transformed_theta_feature.get_support()\n",
    "phi_index = transformed_phi_feature.get_support()\n",
    "\n",
    "X_train_theta_columns = trans_X.columns[theta_index]\n",
    "X_train_phi_columns = trans_X.columns[phi_index]\n",
    "\n",
    "\n",
    "theta_data = trans_X[X_train_theta_columns]\n",
    "phi_data = trans_X[X_train_phi_columns]"
   ],
   "metadata": {
    "collapsed": false,
    "pycharm": {
     "name": "#%%\n"
    }
   }
  },
  {
   "cell_type": "markdown",
   "source": [
    "### AUTO ML implication\n",
    "\n",
    "Before move forward, let test it with ```auto-sklearn```\n",
    "\n",
    "\n",
    "#### train test split"
   ],
   "metadata": {
    "collapsed": false,
    "pycharm": {
     "name": "#%% md\n"
    }
   }
  },
  {
   "cell_type": "code",
   "source": [
    "import sklearn\n",
    "X_train_theta, X_test_theta, y_train_theta, y_test_theta = \\\n",
    "            sklearn.model_selection.train_test_split(theta_data, trans_Theta, random_state=1)\n",
    "\n",
    "\n",
    "X_train_phi, X_test_phi, y_train_phi, y_test_phi = \\\n",
    "            sklearn.model_selection.train_test_split(phi_data, trans_Phi, random_state=1)"
   ],
   "metadata": {
    "collapsed": false,
    "pycharm": {
     "name": "#%%\n"
    }
   },
   "execution_count": 20,
   "outputs": []
  },
  {
   "cell_type": "markdown",
   "source": [
    "#### Step 1.  **train $\\theta$**\n"
   ],
   "metadata": {
    "collapsed": false,
    "pycharm": {
     "name": "#%% md\n"
    }
   }
  },
  {
   "cell_type": "code",
   "execution_count": 22,
   "outputs": [
    {
     "name": "stdout",
     "output_type": "stream",
     "text": [
      "[WARNING] [2021-10-01 12:58:01,190:Client-AutoML(1):bbd39ffc-22d8-11ec-ad8f-a3264d3d93e1] Time limit for a single run is higher than total time limit. Capping the limit for a single run to the total time given to SMAC (3599.722542)\n",
      "[WARNING] [2021-10-01 12:58:01,190:Client-AutoML(1):bbd39ffc-22d8-11ec-ad8f-a3264d3d93e1] Capping the per_run_time_limit to 1799.0 to have time for a least 2 models in each process.\n"
     ]
    },
    {
     "ename": "KeyboardInterrupt",
     "evalue": "",
     "output_type": "error",
     "traceback": [
      "\u001B[0;31m---------------------------------------------------------------------------\u001B[0m",
      "\u001B[0;31mKeyboardInterrupt\u001B[0m                         Traceback (most recent call last)",
      "\u001B[0;32m/tmp/ipykernel_11663/2272367663.py\u001B[0m in \u001B[0;36m<module>\u001B[0;34m\u001B[0m\n\u001B[1;32m      6\u001B[0m \u001B[0mautoml_theta\u001B[0m \u001B[0;34m=\u001B[0m \u001B[0mautosklearn\u001B[0m\u001B[0;34m.\u001B[0m\u001B[0mregression\u001B[0m\u001B[0;34m.\u001B[0m\u001B[0mAutoSklearnRegressor\u001B[0m\u001B[0;34m(\u001B[0m\u001B[0mn_jobs\u001B[0m\u001B[0;34m=\u001B[0m\u001B[0mos\u001B[0m\u001B[0;34m.\u001B[0m\u001B[0mcpu_count\u001B[0m\u001B[0;34m(\u001B[0m\u001B[0;34m)\u001B[0m\u001B[0;34m,\u001B[0m\u001B[0mtmp_folder\u001B[0m\u001B[0;34m=\u001B[0m\u001B[0;34m'./tmp/autosklearn_regression_example_tmp'\u001B[0m\u001B[0;34m)\u001B[0m\u001B[0;34m\u001B[0m\u001B[0;34m\u001B[0m\u001B[0m\n\u001B[1;32m      7\u001B[0m \u001B[0;34m\u001B[0m\u001B[0m\n\u001B[0;32m----> 8\u001B[0;31m \u001B[0mautoml_theta\u001B[0m\u001B[0;34m.\u001B[0m\u001B[0mfit\u001B[0m\u001B[0;34m(\u001B[0m\u001B[0mX\u001B[0m\u001B[0;34m=\u001B[0m\u001B[0mX_train_theta\u001B[0m\u001B[0;34m,\u001B[0m\u001B[0my\u001B[0m\u001B[0;34m=\u001B[0m\u001B[0my_train_theta\u001B[0m\u001B[0;34m,\u001B[0m\u001B[0mX_test\u001B[0m\u001B[0;34m=\u001B[0m\u001B[0mX_test_theta\u001B[0m\u001B[0;34m,\u001B[0m\u001B[0my_test\u001B[0m\u001B[0;34m=\u001B[0m\u001B[0my_test_theta\u001B[0m\u001B[0;34m)\u001B[0m\u001B[0;34m\u001B[0m\u001B[0;34m\u001B[0m\u001B[0m\n\u001B[0m",
      "\u001B[0;32m~/Work/research/Calib/venv/lib/python3.8/site-packages/autosklearn/estimators.py\u001B[0m in \u001B[0;36mfit\u001B[0;34m(self, X, y, X_test, y_test, feat_type, dataset_name)\u001B[0m\n\u001B[1;32m   1082\u001B[0m         \u001B[0;31m# Fit is supposed to be idempotent!\u001B[0m\u001B[0;34m\u001B[0m\u001B[0;34m\u001B[0m\u001B[0;34m\u001B[0m\u001B[0m\n\u001B[1;32m   1083\u001B[0m         \u001B[0;31m# But not if we use share_mode.\u001B[0m\u001B[0;34m\u001B[0m\u001B[0;34m\u001B[0m\u001B[0;34m\u001B[0m\u001B[0m\n\u001B[0;32m-> 1084\u001B[0;31m         super().fit(\n\u001B[0m\u001B[1;32m   1085\u001B[0m             \u001B[0mX\u001B[0m\u001B[0;34m=\u001B[0m\u001B[0mX\u001B[0m\u001B[0;34m,\u001B[0m\u001B[0;34m\u001B[0m\u001B[0;34m\u001B[0m\u001B[0m\n\u001B[1;32m   1086\u001B[0m             \u001B[0my\u001B[0m\u001B[0;34m=\u001B[0m\u001B[0my\u001B[0m\u001B[0;34m,\u001B[0m\u001B[0;34m\u001B[0m\u001B[0;34m\u001B[0m\u001B[0m\n",
      "\u001B[0;32m~/Work/research/Calib/venv/lib/python3.8/site-packages/autosklearn/estimators.py\u001B[0m in \u001B[0;36mfit\u001B[0;34m(self, **kwargs)\u001B[0m\n\u001B[1;32m    328\u001B[0m         \u001B[0;32mif\u001B[0m \u001B[0mself\u001B[0m\u001B[0;34m.\u001B[0m\u001B[0mautoml_\u001B[0m \u001B[0;32mis\u001B[0m \u001B[0;32mNone\u001B[0m\u001B[0;34m:\u001B[0m\u001B[0;34m\u001B[0m\u001B[0;34m\u001B[0m\u001B[0m\n\u001B[1;32m    329\u001B[0m             \u001B[0mself\u001B[0m\u001B[0;34m.\u001B[0m\u001B[0mautoml_\u001B[0m \u001B[0;34m=\u001B[0m \u001B[0mself\u001B[0m\u001B[0;34m.\u001B[0m\u001B[0mbuild_automl\u001B[0m\u001B[0;34m(\u001B[0m\u001B[0;34m)\u001B[0m\u001B[0;34m\u001B[0m\u001B[0;34m\u001B[0m\u001B[0m\n\u001B[0;32m--> 330\u001B[0;31m         \u001B[0mself\u001B[0m\u001B[0;34m.\u001B[0m\u001B[0mautoml_\u001B[0m\u001B[0;34m.\u001B[0m\u001B[0mfit\u001B[0m\u001B[0;34m(\u001B[0m\u001B[0mload_models\u001B[0m\u001B[0;34m=\u001B[0m\u001B[0mself\u001B[0m\u001B[0;34m.\u001B[0m\u001B[0mload_models\u001B[0m\u001B[0;34m,\u001B[0m \u001B[0;34m**\u001B[0m\u001B[0mkwargs\u001B[0m\u001B[0;34m)\u001B[0m\u001B[0;34m\u001B[0m\u001B[0;34m\u001B[0m\u001B[0m\n\u001B[0m\u001B[1;32m    331\u001B[0m \u001B[0;34m\u001B[0m\u001B[0m\n\u001B[1;32m    332\u001B[0m         \u001B[0;32mreturn\u001B[0m \u001B[0mself\u001B[0m\u001B[0;34m\u001B[0m\u001B[0;34m\u001B[0m\u001B[0m\n",
      "\u001B[0;32m~/Work/research/Calib/venv/lib/python3.8/site-packages/autosklearn/automl.py\u001B[0m in \u001B[0;36mfit\u001B[0;34m(self, X, y, X_test, y_test, feat_type, dataset_name, only_return_configuration_space, load_models)\u001B[0m\n\u001B[1;32m   1989\u001B[0m         \u001B[0mload_models\u001B[0m\u001B[0;34m:\u001B[0m \u001B[0mbool\u001B[0m \u001B[0;34m=\u001B[0m \u001B[0;32mTrue\u001B[0m\u001B[0;34m,\u001B[0m\u001B[0;34m\u001B[0m\u001B[0;34m\u001B[0m\u001B[0m\n\u001B[1;32m   1990\u001B[0m     ):\n\u001B[0;32m-> 1991\u001B[0;31m         return super().fit(\n\u001B[0m\u001B[1;32m   1992\u001B[0m             \u001B[0mX\u001B[0m\u001B[0;34m,\u001B[0m \u001B[0my\u001B[0m\u001B[0;34m,\u001B[0m\u001B[0;34m\u001B[0m\u001B[0;34m\u001B[0m\u001B[0m\n\u001B[1;32m   1993\u001B[0m             \u001B[0mX_test\u001B[0m\u001B[0;34m=\u001B[0m\u001B[0mX_test\u001B[0m\u001B[0;34m,\u001B[0m\u001B[0;34m\u001B[0m\u001B[0;34m\u001B[0m\u001B[0m\n",
      "\u001B[0;32m~/Work/research/Calib/venv/lib/python3.8/site-packages/autosklearn/automl.py\u001B[0m in \u001B[0;36mfit\u001B[0;34m(self, X, y, task, X_test, y_test, feat_type, dataset_name, only_return_configuration_space, load_models, is_classification)\u001B[0m\n\u001B[1;32m    925\u001B[0m             \u001B[0;32mtry\u001B[0m\u001B[0;34m:\u001B[0m\u001B[0;34m\u001B[0m\u001B[0;34m\u001B[0m\u001B[0m\n\u001B[1;32m    926\u001B[0m                 \u001B[0mself\u001B[0m\u001B[0;34m.\u001B[0m\u001B[0mrunhistory_\u001B[0m\u001B[0;34m,\u001B[0m \u001B[0mself\u001B[0m\u001B[0;34m.\u001B[0m\u001B[0mtrajectory_\u001B[0m\u001B[0;34m,\u001B[0m \u001B[0mself\u001B[0m\u001B[0;34m.\u001B[0m\u001B[0m_budget_type\u001B[0m \u001B[0;34m=\u001B[0m\u001B[0;31m \u001B[0m\u001B[0;31m\\\u001B[0m\u001B[0;34m\u001B[0m\u001B[0;34m\u001B[0m\u001B[0m\n\u001B[0;32m--> 927\u001B[0;31m                     \u001B[0m_proc_smac\u001B[0m\u001B[0;34m.\u001B[0m\u001B[0mrun_smbo\u001B[0m\u001B[0;34m(\u001B[0m\u001B[0;34m)\u001B[0m\u001B[0;34m\u001B[0m\u001B[0;34m\u001B[0m\u001B[0m\n\u001B[0m\u001B[1;32m    928\u001B[0m                 trajectory_filename = os.path.join(\n\u001B[1;32m    929\u001B[0m                     \u001B[0mself\u001B[0m\u001B[0;34m.\u001B[0m\u001B[0m_backend\u001B[0m\u001B[0;34m.\u001B[0m\u001B[0mget_smac_output_directory_for_run\u001B[0m\u001B[0;34m(\u001B[0m\u001B[0mself\u001B[0m\u001B[0;34m.\u001B[0m\u001B[0m_seed\u001B[0m\u001B[0;34m)\u001B[0m\u001B[0;34m,\u001B[0m\u001B[0;34m\u001B[0m\u001B[0;34m\u001B[0m\u001B[0m\n",
      "\u001B[0;32m~/Work/research/Calib/venv/lib/python3.8/site-packages/autosklearn/smbo.py\u001B[0m in \u001B[0;36mrun_smbo\u001B[0;34m(self)\u001B[0m\n\u001B[1;32m    494\u001B[0m             \u001B[0msmac\u001B[0m\u001B[0;34m.\u001B[0m\u001B[0mregister_callback\u001B[0m\u001B[0;34m(\u001B[0m\u001B[0mself\u001B[0m\u001B[0;34m.\u001B[0m\u001B[0mtrials_callback\u001B[0m\u001B[0;34m)\u001B[0m\u001B[0;34m\u001B[0m\u001B[0;34m\u001B[0m\u001B[0m\n\u001B[1;32m    495\u001B[0m \u001B[0;34m\u001B[0m\u001B[0m\n\u001B[0;32m--> 496\u001B[0;31m         \u001B[0msmac\u001B[0m\u001B[0;34m.\u001B[0m\u001B[0moptimize\u001B[0m\u001B[0;34m(\u001B[0m\u001B[0;34m)\u001B[0m\u001B[0;34m\u001B[0m\u001B[0;34m\u001B[0m\u001B[0m\n\u001B[0m\u001B[1;32m    497\u001B[0m \u001B[0;34m\u001B[0m\u001B[0m\n\u001B[1;32m    498\u001B[0m         \u001B[0mself\u001B[0m\u001B[0;34m.\u001B[0m\u001B[0mrunhistory\u001B[0m \u001B[0;34m=\u001B[0m \u001B[0msmac\u001B[0m\u001B[0;34m.\u001B[0m\u001B[0msolver\u001B[0m\u001B[0;34m.\u001B[0m\u001B[0mrunhistory\u001B[0m\u001B[0;34m\u001B[0m\u001B[0;34m\u001B[0m\u001B[0m\n",
      "\u001B[0;32m~/Work/research/Calib/venv/lib/python3.8/site-packages/smac/facade/smac_ac_facade.py\u001B[0m in \u001B[0;36moptimize\u001B[0;34m(self)\u001B[0m\n\u001B[1;32m    595\u001B[0m         \u001B[0mincumbent\u001B[0m \u001B[0;34m=\u001B[0m \u001B[0;32mNone\u001B[0m\u001B[0;34m\u001B[0m\u001B[0;34m\u001B[0m\u001B[0m\n\u001B[1;32m    596\u001B[0m         \u001B[0;32mtry\u001B[0m\u001B[0;34m:\u001B[0m\u001B[0;34m\u001B[0m\u001B[0;34m\u001B[0m\u001B[0m\n\u001B[0;32m--> 597\u001B[0;31m             \u001B[0mincumbent\u001B[0m \u001B[0;34m=\u001B[0m \u001B[0mself\u001B[0m\u001B[0;34m.\u001B[0m\u001B[0msolver\u001B[0m\u001B[0;34m.\u001B[0m\u001B[0mrun\u001B[0m\u001B[0;34m(\u001B[0m\u001B[0;34m)\u001B[0m\u001B[0;34m\u001B[0m\u001B[0;34m\u001B[0m\u001B[0m\n\u001B[0m\u001B[1;32m    598\u001B[0m         \u001B[0;32mfinally\u001B[0m\u001B[0;34m:\u001B[0m\u001B[0;34m\u001B[0m\u001B[0;34m\u001B[0m\u001B[0m\n\u001B[1;32m    599\u001B[0m             \u001B[0mself\u001B[0m\u001B[0;34m.\u001B[0m\u001B[0msolver\u001B[0m\u001B[0;34m.\u001B[0m\u001B[0msave\u001B[0m\u001B[0;34m(\u001B[0m\u001B[0;34m)\u001B[0m\u001B[0;34m\u001B[0m\u001B[0;34m\u001B[0m\u001B[0m\n",
      "\u001B[0;32m~/Work/research/Calib/venv/lib/python3.8/site-packages/smac/optimizer/smbo.py\u001B[0m in \u001B[0;36mrun\u001B[0;34m(self)\u001B[0m\n\u001B[1;32m    210\u001B[0m             \u001B[0;31m# sample next configuration for intensification\u001B[0m\u001B[0;34m\u001B[0m\u001B[0;34m\u001B[0m\u001B[0;34m\u001B[0m\u001B[0m\n\u001B[1;32m    211\u001B[0m             \u001B[0;31m# Initial design runs are also included in the BO loop now.\u001B[0m\u001B[0;34m\u001B[0m\u001B[0;34m\u001B[0m\u001B[0;34m\u001B[0m\u001B[0m\n\u001B[0;32m--> 212\u001B[0;31m             intent, run_info = self.intensifier.get_next_run(\n\u001B[0m\u001B[1;32m    213\u001B[0m                 \u001B[0mchallengers\u001B[0m\u001B[0;34m=\u001B[0m\u001B[0mself\u001B[0m\u001B[0;34m.\u001B[0m\u001B[0minitial_design_configs\u001B[0m\u001B[0;34m,\u001B[0m\u001B[0;34m\u001B[0m\u001B[0;34m\u001B[0m\u001B[0m\n\u001B[1;32m    214\u001B[0m                 \u001B[0mincumbent\u001B[0m\u001B[0;34m=\u001B[0m\u001B[0mself\u001B[0m\u001B[0;34m.\u001B[0m\u001B[0mincumbent\u001B[0m\u001B[0;34m,\u001B[0m\u001B[0;34m\u001B[0m\u001B[0;34m\u001B[0m\u001B[0m\n",
      "\u001B[0;32m~/Work/research/Calib/venv/lib/python3.8/site-packages/smac/intensification/simple_intensifier.py\u001B[0m in \u001B[0;36mget_next_run\u001B[0;34m(self, challengers, incumbent, chooser, run_history, repeat_configs, num_workers)\u001B[0m\n\u001B[1;32m    166\u001B[0m          \"\"\"\n\u001B[1;32m    167\u001B[0m         \u001B[0;31m# We always sample from the configs provided or the EPM\u001B[0m\u001B[0;34m\u001B[0m\u001B[0;34m\u001B[0m\u001B[0;34m\u001B[0m\u001B[0m\n\u001B[0;32m--> 168\u001B[0;31m         challenger = self._next_challenger(challengers=challengers,\n\u001B[0m\u001B[1;32m    169\u001B[0m                                            \u001B[0mchooser\u001B[0m\u001B[0;34m=\u001B[0m\u001B[0mchooser\u001B[0m\u001B[0;34m,\u001B[0m\u001B[0;34m\u001B[0m\u001B[0;34m\u001B[0m\u001B[0m\n\u001B[1;32m    170\u001B[0m                                            \u001B[0mrun_history\u001B[0m\u001B[0;34m=\u001B[0m\u001B[0mrun_history\u001B[0m\u001B[0;34m,\u001B[0m\u001B[0;34m\u001B[0m\u001B[0;34m\u001B[0m\u001B[0m\n",
      "\u001B[0;32m~/Work/research/Calib/venv/lib/python3.8/site-packages/smac/intensification/abstract_racer.py\u001B[0m in \u001B[0;36m_next_challenger\u001B[0;34m(self, challengers, chooser, run_history, repeat_configs)\u001B[0m\n\u001B[1;32m    252\u001B[0m         \u001B[0;31m# select challenger from the generators\u001B[0m\u001B[0;34m\u001B[0m\u001B[0;34m\u001B[0m\u001B[0;34m\u001B[0m\u001B[0m\n\u001B[1;32m    253\u001B[0m         \u001B[0;32massert\u001B[0m \u001B[0mchall_gen\u001B[0m \u001B[0;32mis\u001B[0m \u001B[0;32mnot\u001B[0m \u001B[0;32mNone\u001B[0m\u001B[0;34m\u001B[0m\u001B[0;34m\u001B[0m\u001B[0m\n\u001B[0;32m--> 254\u001B[0;31m         \u001B[0;32mfor\u001B[0m \u001B[0mchallenger\u001B[0m \u001B[0;32min\u001B[0m \u001B[0mchall_gen\u001B[0m\u001B[0;34m:\u001B[0m\u001B[0;34m\u001B[0m\u001B[0;34m\u001B[0m\u001B[0m\n\u001B[0m\u001B[1;32m    255\u001B[0m             \u001B[0;31m# repetitions allowed\u001B[0m\u001B[0;34m\u001B[0m\u001B[0;34m\u001B[0m\u001B[0;34m\u001B[0m\u001B[0m\n\u001B[1;32m    256\u001B[0m             \u001B[0;32mif\u001B[0m \u001B[0mrepeat_configs\u001B[0m\u001B[0;34m:\u001B[0m\u001B[0;34m\u001B[0m\u001B[0;34m\u001B[0m\u001B[0m\n",
      "\u001B[0;32m~/Work/research/Calib/venv/lib/python3.8/site-packages/smac/optimizer/ei_optimization.py\u001B[0m in \u001B[0;36m__next__\u001B[0;34m(self)\u001B[0m\n\u001B[1;32m    708\u001B[0m             \u001B[0;32melse\u001B[0m\u001B[0;34m:\u001B[0m\u001B[0;34m\u001B[0m\u001B[0;34m\u001B[0m\u001B[0m\n\u001B[1;32m    709\u001B[0m                 \u001B[0;32mif\u001B[0m \u001B[0mself\u001B[0m\u001B[0;34m.\u001B[0m\u001B[0mchallengers\u001B[0m \u001B[0;32mis\u001B[0m \u001B[0;32mNone\u001B[0m\u001B[0;34m:\u001B[0m\u001B[0;34m\u001B[0m\u001B[0;34m\u001B[0m\u001B[0m\n\u001B[0;32m--> 710\u001B[0;31m                     \u001B[0mself\u001B[0m\u001B[0;34m.\u001B[0m\u001B[0mchallengers\u001B[0m \u001B[0;34m=\u001B[0m \u001B[0mself\u001B[0m\u001B[0;34m.\u001B[0m\u001B[0mchallengers_callback\u001B[0m\u001B[0;34m(\u001B[0m\u001B[0;34m)\u001B[0m\u001B[0;34m\u001B[0m\u001B[0;34m\u001B[0m\u001B[0m\n\u001B[0m\u001B[1;32m    711\u001B[0m                 \u001B[0mconfig\u001B[0m \u001B[0;34m=\u001B[0m \u001B[0mself\u001B[0m\u001B[0;34m.\u001B[0m\u001B[0mchallengers\u001B[0m\u001B[0;34m[\u001B[0m\u001B[0mself\u001B[0m\u001B[0;34m.\u001B[0m\u001B[0m_index\u001B[0m\u001B[0;34m]\u001B[0m\u001B[0;34m\u001B[0m\u001B[0;34m\u001B[0m\u001B[0m\n\u001B[1;32m    712\u001B[0m                 \u001B[0mself\u001B[0m\u001B[0;34m.\u001B[0m\u001B[0m_index\u001B[0m \u001B[0;34m+=\u001B[0m \u001B[0;36m1\u001B[0m\u001B[0;34m\u001B[0m\u001B[0;34m\u001B[0m\u001B[0m\n",
      "\u001B[0;32m~/Work/research/Calib/venv/lib/python3.8/site-packages/smac/optimizer/ei_optimization.py\u001B[0m in \u001B[0;36mnext_configs_by_acq_value\u001B[0;34m()\u001B[0m\n\u001B[1;32m     90\u001B[0m         \"\"\"\n\u001B[1;32m     91\u001B[0m         \u001B[0;32mdef\u001B[0m \u001B[0mnext_configs_by_acq_value\u001B[0m\u001B[0;34m(\u001B[0m\u001B[0;34m)\u001B[0m \u001B[0;34m->\u001B[0m \u001B[0mList\u001B[0m\u001B[0;34m[\u001B[0m\u001B[0mConfiguration\u001B[0m\u001B[0;34m]\u001B[0m\u001B[0;34m:\u001B[0m\u001B[0;34m\u001B[0m\u001B[0;34m\u001B[0m\u001B[0m\n\u001B[0;32m---> 92\u001B[0;31m             \u001B[0;32mreturn\u001B[0m \u001B[0;34m[\u001B[0m\u001B[0mt\u001B[0m\u001B[0;34m[\u001B[0m\u001B[0;36m1\u001B[0m\u001B[0;34m]\u001B[0m \u001B[0;32mfor\u001B[0m \u001B[0mt\u001B[0m \u001B[0;32min\u001B[0m \u001B[0mself\u001B[0m\u001B[0;34m.\u001B[0m\u001B[0m_maximize\u001B[0m\u001B[0;34m(\u001B[0m\u001B[0mrunhistory\u001B[0m\u001B[0;34m,\u001B[0m \u001B[0mstats\u001B[0m\u001B[0;34m,\u001B[0m \u001B[0mnum_points\u001B[0m\u001B[0;34m)\u001B[0m\u001B[0;34m]\u001B[0m\u001B[0;34m\u001B[0m\u001B[0;34m\u001B[0m\u001B[0m\n\u001B[0m\u001B[1;32m     93\u001B[0m \u001B[0;34m\u001B[0m\u001B[0m\n\u001B[1;32m     94\u001B[0m         challengers = ChallengerList(next_configs_by_acq_value,\n",
      "\u001B[0;32m~/Work/research/Calib/venv/lib/python3.8/site-packages/smac/optimizer/ei_optimization.py\u001B[0m in \u001B[0;36m_maximize\u001B[0;34m(self, runhistory, stats, num_points)\u001B[0m\n\u001B[1;32m    641\u001B[0m         )\n\u001B[1;32m    642\u001B[0m \u001B[0;34m\u001B[0m\u001B[0m\n\u001B[0;32m--> 643\u001B[0;31m         next_configs_by_local_search = self.local_search._maximize(\n\u001B[0m\u001B[1;32m    644\u001B[0m             \u001B[0mrunhistory\u001B[0m\u001B[0;34m,\u001B[0m \u001B[0mstats\u001B[0m\u001B[0;34m,\u001B[0m \u001B[0mself\u001B[0m\u001B[0;34m.\u001B[0m\u001B[0mn_sls_iterations\u001B[0m\u001B[0;34m,\u001B[0m \u001B[0madditional_start_points\u001B[0m\u001B[0;34m=\u001B[0m\u001B[0mnext_configs_by_random_search_sorted\u001B[0m\u001B[0;34m,\u001B[0m\u001B[0;34m\u001B[0m\u001B[0;34m\u001B[0m\u001B[0m\n\u001B[1;32m    645\u001B[0m         )\n",
      "\u001B[0;32m~/Work/research/Calib/venv/lib/python3.8/site-packages/smac/optimizer/ei_optimization.py\u001B[0m in \u001B[0;36m_maximize\u001B[0;34m(self, runhistory, stats, num_points, additional_start_points)\u001B[0m\n\u001B[1;32m    231\u001B[0m \u001B[0;34m\u001B[0m\u001B[0m\n\u001B[1;32m    232\u001B[0m         \u001B[0minit_points\u001B[0m \u001B[0;34m=\u001B[0m \u001B[0mself\u001B[0m\u001B[0;34m.\u001B[0m\u001B[0m_get_initial_points\u001B[0m\u001B[0;34m(\u001B[0m\u001B[0mnum_points\u001B[0m\u001B[0;34m,\u001B[0m \u001B[0mrunhistory\u001B[0m\u001B[0;34m,\u001B[0m \u001B[0madditional_start_points\u001B[0m\u001B[0;34m)\u001B[0m\u001B[0;34m\u001B[0m\u001B[0;34m\u001B[0m\u001B[0m\n\u001B[0;32m--> 233\u001B[0;31m         \u001B[0mconfigs_acq\u001B[0m \u001B[0;34m=\u001B[0m \u001B[0mself\u001B[0m\u001B[0;34m.\u001B[0m\u001B[0m_do_search\u001B[0m\u001B[0;34m(\u001B[0m\u001B[0minit_points\u001B[0m\u001B[0;34m)\u001B[0m\u001B[0;34m\u001B[0m\u001B[0;34m\u001B[0m\u001B[0m\n\u001B[0m\u001B[1;32m    234\u001B[0m \u001B[0;34m\u001B[0m\u001B[0m\n\u001B[1;32m    235\u001B[0m         \u001B[0;31m# shuffle for random tie-break\u001B[0m\u001B[0;34m\u001B[0m\u001B[0;34m\u001B[0m\u001B[0;34m\u001B[0m\u001B[0m\n",
      "\u001B[0;32m~/Work/research/Calib/venv/lib/python3.8/site-packages/smac/optimizer/ei_optimization.py\u001B[0m in \u001B[0;36m_do_search\u001B[0;34m(self, start_points)\u001B[0m\n\u001B[1;32m    365\u001B[0m                     \u001B[0;32mfor\u001B[0m \u001B[0mj\u001B[0m \u001B[0;32min\u001B[0m \u001B[0mrange\u001B[0m\u001B[0;34m(\u001B[0m\u001B[0mobtain_n\u001B[0m\u001B[0;34m[\u001B[0m\u001B[0mi\u001B[0m\u001B[0;34m]\u001B[0m\u001B[0;34m)\u001B[0m\u001B[0;34m:\u001B[0m\u001B[0;34m\u001B[0m\u001B[0;34m\u001B[0m\u001B[0m\n\u001B[1;32m    366\u001B[0m                         \u001B[0;32mtry\u001B[0m\u001B[0;34m:\u001B[0m\u001B[0;34m\u001B[0m\u001B[0;34m\u001B[0m\u001B[0m\n\u001B[0;32m--> 367\u001B[0;31m                             \u001B[0mn\u001B[0m \u001B[0;34m=\u001B[0m \u001B[0mnext\u001B[0m\u001B[0;34m(\u001B[0m\u001B[0mneighborhood_iterator\u001B[0m\u001B[0;34m)\u001B[0m\u001B[0;34m\u001B[0m\u001B[0;34m\u001B[0m\u001B[0m\n\u001B[0m\u001B[1;32m    368\u001B[0m                             \u001B[0mneighbors_generated\u001B[0m\u001B[0;34m[\u001B[0m\u001B[0mi\u001B[0m\u001B[0;34m]\u001B[0m \u001B[0;34m+=\u001B[0m \u001B[0;36m1\u001B[0m\u001B[0;34m\u001B[0m\u001B[0;34m\u001B[0m\u001B[0m\n\u001B[1;32m    369\u001B[0m                             \u001B[0mneighbors_for_i\u001B[0m\u001B[0;34m.\u001B[0m\u001B[0mappend\u001B[0m\u001B[0;34m(\u001B[0m\u001B[0mn\u001B[0m\u001B[0;34m)\u001B[0m\u001B[0;34m\u001B[0m\u001B[0;34m\u001B[0m\u001B[0m\n",
      "\u001B[0;32mConfigSpace/util.pyx\u001B[0m in \u001B[0;36mget_one_exchange_neighbourhood\u001B[0;34m()\u001B[0m\n",
      "\u001B[0;32mmtrand.pyx\u001B[0m in \u001B[0;36mnumpy.random.mtrand.RandomState.shuffle\u001B[0;34m()\u001B[0m\n",
      "\u001B[0;32m/usr/lib/python3.8/abc.py\u001B[0m in \u001B[0;36m__instancecheck__\u001B[0;34m(cls, instance)\u001B[0m\n\u001B[1;32m     94\u001B[0m             \u001B[0;32mreturn\u001B[0m \u001B[0m_abc_register\u001B[0m\u001B[0;34m(\u001B[0m\u001B[0mcls\u001B[0m\u001B[0;34m,\u001B[0m \u001B[0msubclass\u001B[0m\u001B[0;34m)\u001B[0m\u001B[0;34m\u001B[0m\u001B[0;34m\u001B[0m\u001B[0m\n\u001B[1;32m     95\u001B[0m \u001B[0;34m\u001B[0m\u001B[0m\n\u001B[0;32m---> 96\u001B[0;31m         \u001B[0;32mdef\u001B[0m \u001B[0m__instancecheck__\u001B[0m\u001B[0;34m(\u001B[0m\u001B[0mcls\u001B[0m\u001B[0;34m,\u001B[0m \u001B[0minstance\u001B[0m\u001B[0;34m)\u001B[0m\u001B[0;34m:\u001B[0m\u001B[0;34m\u001B[0m\u001B[0;34m\u001B[0m\u001B[0m\n\u001B[0m\u001B[1;32m     97\u001B[0m             \u001B[0;34m\"\"\"Override for isinstance(instance, cls).\"\"\"\u001B[0m\u001B[0;34m\u001B[0m\u001B[0;34m\u001B[0m\u001B[0m\n\u001B[1;32m     98\u001B[0m             \u001B[0;32mreturn\u001B[0m \u001B[0m_abc_instancecheck\u001B[0m\u001B[0;34m(\u001B[0m\u001B[0mcls\u001B[0m\u001B[0;34m,\u001B[0m \u001B[0minstance\u001B[0m\u001B[0;34m)\u001B[0m\u001B[0;34m\u001B[0m\u001B[0;34m\u001B[0m\u001B[0m\n",
      "\u001B[0;31mKeyboardInterrupt\u001B[0m: "
     ]
    }
   ],
   "source": [
    "import autosklearn.regression\n",
    "import sklearn.model_selection\n",
    "import sklearn.metrics\n",
    "import os\n",
    "\n",
    "automl_theta = autosklearn.regression.AutoSklearnRegressor(n_jobs=os.cpu_count(),tmp_folder='./tmp/autosklearn_regression_example_tmp')\n",
    "\n",
    "automl_theta.fit(X=X_train_theta,y=y_train_theta,X_test=X_test_theta,y_test=y_test_theta)"
   ],
   "metadata": {
    "collapsed": false,
    "pycharm": {
     "name": "#%%\n"
    }
   }
  }
 ],
 "metadata": {
  "kernelspec": {
   "display_name": "Python 3",
   "language": "python",
   "name": "python3"
  },
  "language_info": {
   "codemirror_mode": {
    "name": "ipython",
    "version": 2
   },
   "file_extension": ".py",
   "mimetype": "text/x-python",
   "name": "python",
   "nbconvert_exporter": "python",
   "pygments_lexer": "ipython2",
   "version": "2.7.6"
  }
 },
 "nbformat": 4,
 "nbformat_minor": 0
}