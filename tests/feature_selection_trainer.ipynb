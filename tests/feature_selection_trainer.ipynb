{
 "cells": [
  {
   "cell_type": "code",
   "execution_count": 6,
   "metadata": {
    "collapsed": true
   },
   "outputs": [],
   "source": [
    "from sklearn.feature_selection import SelectKBest\n",
    "from sklearn.feature_selection import SelectFromModel\n",
    "from sklearn.ensemble import RandomForestRegressor\n",
    "import os\n",
    "from os.path import isfile\n",
    "from pandas import DataFrame"
   ]
  },
  {
   "cell_type": "code",
   "execution_count": 48,
   "metadata": {
    "pycharm": {
     "name": "#%%\n"
    }
   },
   "outputs": [],
   "source": [
    "import pandas as pd\n",
    "\n",
    "optfileList = ['../data/CRex/RHRS/CRex_DataSet_21743.csv',\n",
    "               '../data/CRex/RHRS/CRex_DataSet_21744.csv',\n",
    "               '../data/CRex/RHRS/CRex_DataSet_21748.csv',\n",
    "               '../data/CRex/RHRS/CRex_DataSet_21749.csv',\n",
    "               '../data/CRex/RHRS/CRex_DataSet_21752.csv',\n",
    "               '../data/CRex/RHRS/CRex_DataSet_21753.csv',\n",
    "               '../data/CRex/RHRS/CRex_DataSet_21754.csv',\n",
    "               '../data/CRex/RHRS/CRex_DataSet_21755.csv',\n",
    "               '../data/CRex/RHRS/CRex_DataSet_21756.csv',\n",
    "               '../data/CRex/RHRS/CRex_DataSet_21757.csv',\n",
    "               '../data/CRex/RHRS/CRex_DataSet_21768.csv',\n",
    "               '../data/CRex/RHRS/CRex_DataSet_21769.csv',\n",
    "               '../data/CRex/RHRS/CRex_DataSet_21770.csv',\n",
    "               '../data/CRex/RHRS/CRex_DataSet_21771.csv',\n",
    "               '../data/CRex/RHRS/CRex_DataSet_21772.csv',\n",
    "               '../data/CRex/RHRS/CRex_DataSet_21781.csv',\n",
    "               '../data/CRex/RHRS/CRex_DataSet_21782.csv',\n",
    "               '../data/CRex/RHRS/CRex_DataSet_21783.csv',\n",
    "               '../data/CRex/RHRS/CRex_DataSet_21784.csv',\n",
    "               '../data/CRex/RHRS/CRex_DataSet_21785.csv',\n",
    "               ]\n",
    "\n",
    "# load all the dataset and start the training process\n",
    "li = []\n",
    "for file in optfileList:\n",
    "    if isfile(file):\n",
    "        df = pd.read_csv(file,index_col=None,header=0)\n",
    "        li.append(df)\n",
    "dataInitial = pd.concat(li,axis=0,ignore_index=True)\n",
    "data = pd.concat(li,axis=0,ignore_index=True)"
   ]
  },
  {
   "cell_type": "code",
   "execution_count": 8,
   "metadata": {
    "pycharm": {
     "name": "#%%\n"
    }
   },
   "outputs": [
    {
     "data": {
      "text/html": [
       "<div>\n",
       "<style scoped>\n",
       "    .dataframe tbody tr th:only-of-type {\n",
       "        vertical-align: middle;\n",
       "    }\n",
       "\n",
       "    .dataframe tbody tr th {\n",
       "        vertical-align: top;\n",
       "    }\n",
       "\n",
       "    .dataframe thead th {\n",
       "        text-align: right;\n",
       "    }\n",
       "</style>\n",
       "<table border=\"1\" class=\"dataframe\">\n",
       "  <thead>\n",
       "    <tr style=\"text-align: right;\">\n",
       "      <th></th>\n",
       "      <th>focal_x</th>\n",
       "      <th>focal_y</th>\n",
       "      <th>focal_th</th>\n",
       "      <th>focal_ph</th>\n",
       "      <th>targCalTh</th>\n",
       "      <th>targCalPh</th>\n",
       "    </tr>\n",
       "  </thead>\n",
       "  <tbody>\n",
       "    <tr>\n",
       "      <th>0</th>\n",
       "      <td>-0.301587</td>\n",
       "      <td>0.016011</td>\n",
       "      <td>0.012192</td>\n",
       "      <td>0.000739</td>\n",
       "      <td>-0.029615</td>\n",
       "      <td>-0.006545</td>\n",
       "    </tr>\n",
       "    <tr>\n",
       "      <th>1</th>\n",
       "      <td>-0.037429</td>\n",
       "      <td>-0.007679</td>\n",
       "      <td>0.001400</td>\n",
       "      <td>0.011046</td>\n",
       "      <td>-0.009243</td>\n",
       "      <td>0.008405</td>\n",
       "    </tr>\n",
       "    <tr>\n",
       "      <th>2</th>\n",
       "      <td>-0.283216</td>\n",
       "      <td>0.012550</td>\n",
       "      <td>0.004096</td>\n",
       "      <td>-0.000475</td>\n",
       "      <td>-0.016034</td>\n",
       "      <td>-0.006545</td>\n",
       "    </tr>\n",
       "    <tr>\n",
       "      <th>3</th>\n",
       "      <td>-0.249758</td>\n",
       "      <td>0.006722</td>\n",
       "      <td>-0.003607</td>\n",
       "      <td>0.006061</td>\n",
       "      <td>-0.002452</td>\n",
       "      <td>-0.000295</td>\n",
       "    </tr>\n",
       "    <tr>\n",
       "      <th>4</th>\n",
       "      <td>-0.163223</td>\n",
       "      <td>0.010093</td>\n",
       "      <td>-0.018091</td>\n",
       "      <td>0.009351</td>\n",
       "      <td>0.024711</td>\n",
       "      <td>-0.000295</td>\n",
       "    </tr>\n",
       "    <tr>\n",
       "      <th>...</th>\n",
       "      <td>...</td>\n",
       "      <td>...</td>\n",
       "      <td>...</td>\n",
       "      <td>...</td>\n",
       "      <td>...</td>\n",
       "      <td>...</td>\n",
       "    </tr>\n",
       "    <tr>\n",
       "      <th>384911</th>\n",
       "      <td>-0.174756</td>\n",
       "      <td>0.025478</td>\n",
       "      <td>-0.008025</td>\n",
       "      <td>-0.021762</td>\n",
       "      <td>0.005959</td>\n",
       "      <td>-0.022172</td>\n",
       "    </tr>\n",
       "    <tr>\n",
       "      <th>384912</th>\n",
       "      <td>0.002110</td>\n",
       "      <td>0.028486</td>\n",
       "      <td>-0.008300</td>\n",
       "      <td>-0.016913</td>\n",
       "      <td>0.005959</td>\n",
       "      <td>-0.022172</td>\n",
       "    </tr>\n",
       "    <tr>\n",
       "      <th>384913</th>\n",
       "      <td>-0.139748</td>\n",
       "      <td>0.026431</td>\n",
       "      <td>-0.008081</td>\n",
       "      <td>-0.021064</td>\n",
       "      <td>0.005959</td>\n",
       "      <td>-0.022172</td>\n",
       "    </tr>\n",
       "    <tr>\n",
       "      <th>384914</th>\n",
       "      <td>-0.211684</td>\n",
       "      <td>0.026189</td>\n",
       "      <td>-0.006892</td>\n",
       "      <td>-0.020195</td>\n",
       "      <td>0.005959</td>\n",
       "      <td>-0.022172</td>\n",
       "    </tr>\n",
       "    <tr>\n",
       "      <th>384915</th>\n",
       "      <td>-0.087144</td>\n",
       "      <td>0.027267</td>\n",
       "      <td>-0.008128</td>\n",
       "      <td>-0.019076</td>\n",
       "      <td>0.005959</td>\n",
       "      <td>-0.022172</td>\n",
       "    </tr>\n",
       "  </tbody>\n",
       "</table>\n",
       "<p>384916 rows × 6 columns</p>\n",
       "</div>"
      ],
      "text/plain": [
       "         focal_x   focal_y  focal_th  focal_ph  targCalTh  targCalPh\n",
       "0      -0.301587  0.016011  0.012192  0.000739  -0.029615  -0.006545\n",
       "1      -0.037429 -0.007679  0.001400  0.011046  -0.009243   0.008405\n",
       "2      -0.283216  0.012550  0.004096 -0.000475  -0.016034  -0.006545\n",
       "3      -0.249758  0.006722 -0.003607  0.006061  -0.002452  -0.000295\n",
       "4      -0.163223  0.010093 -0.018091  0.009351   0.024711  -0.000295\n",
       "...          ...       ...       ...       ...        ...        ...\n",
       "384911 -0.174756  0.025478 -0.008025 -0.021762   0.005959  -0.022172\n",
       "384912  0.002110  0.028486 -0.008300 -0.016913   0.005959  -0.022172\n",
       "384913 -0.139748  0.026431 -0.008081 -0.021064   0.005959  -0.022172\n",
       "384914 -0.211684  0.026189 -0.006892 -0.020195   0.005959  -0.022172\n",
       "384915 -0.087144  0.027267 -0.008128 -0.019076   0.005959  -0.022172\n",
       "\n",
       "[384916 rows x 6 columns]"
      ]
     },
     "execution_count": 8,
     "metadata": {},
     "output_type": "execute_result"
    }
   ],
   "source": [
    "selected_feature = ['focal_x','focal_y','focal_th','focal_ph','']\n",
    "targetTheta = ['targCalTh']\n",
    "targetPhi = ['targCalPh']\n",
    "data=data[selected_feature + targetTheta + targetPhi]\n",
    "\n",
    "data"
   ]
  },
  {
   "cell_type": "code",
   "execution_count": 9,
   "metadata": {
    "pycharm": {
     "name": "#%%\n"
    }
   },
   "outputs": [],
   "source": [
    "from SpectroCalib.feature_engineer._preprocess import PolynomialFeatureTransformer\n",
    "from sklearn.pipeline import Pipeline"
   ]
  },
  {
   "cell_type": "code",
   "execution_count": 10,
   "metadata": {
    "pycharm": {
     "name": "#%%\n"
    }
   },
   "outputs": [],
   "source": [
    "fullpipeline = Pipeline([('poly',PolynomialFeatureTransformer(columns = selected_feature))])\n",
    "\n",
    "transformed = fullpipeline.fit_transform(data)\n",
    "\n",
    "\n",
    "trans_Theta = transformed[targetTheta]\n",
    "trans_Phi   = transformed[targetPhi]\n",
    "trans_X = transformed.drop(targetTheta + targetPhi,axis=1)"
   ]
  },
  {
   "cell_type": "markdown",
   "metadata": {
    "pycharm": {
     "name": "#%% md\n"
    }
   },
   "source": [
    "## feature selection"
   ]
  },
  {
   "cell_type": "code",
   "execution_count": 11,
   "metadata": {
    "pycharm": {
     "name": "#%%\n"
    }
   },
   "outputs": [
    {
     "name": "stderr",
     "output_type": "stream",
     "text": [
      "/home/newdriver/Work/research/Calib/venv/lib/python3.8/site-packages/sklearn/utils/validation.py:63: DataConversionWarning: A column-vector y was passed when a 1d array was expected. Please change the shape of y to (n_samples, ), for example using ravel().\n",
      "  return f(*args, **kwargs)\n",
      "/home/newdriver/Work/research/Calib/venv/lib/python3.8/site-packages/sklearn/feature_selection/_univariate_selection.py:302: RuntimeWarning: divide by zero encountered in true_divide\n",
      "  corr /= X_norms\n",
      "/home/newdriver/Work/research/Calib/venv/lib/python3.8/site-packages/sklearn/feature_selection/_univariate_selection.py:307: RuntimeWarning: invalid value encountered in true_divide\n",
      "  F = corr ** 2 / (1 - corr ** 2) * degrees_of_freedom\n",
      "/home/newdriver/Work/research/Calib/venv/lib/python3.8/site-packages/sklearn/utils/validation.py:63: DataConversionWarning: A column-vector y was passed when a 1d array was expected. Please change the shape of y to (n_samples, ), for example using ravel().\n",
      "  return f(*args, **kwargs)\n",
      "/home/newdriver/Work/research/Calib/venv/lib/python3.8/site-packages/sklearn/feature_selection/_univariate_selection.py:302: RuntimeWarning: divide by zero encountered in true_divide\n",
      "  corr /= X_norms\n",
      "/home/newdriver/Work/research/Calib/venv/lib/python3.8/site-packages/sklearn/feature_selection/_univariate_selection.py:307: RuntimeWarning: invalid value encountered in true_divide\n",
      "  F = corr ** 2 / (1 - corr ** 2) * degrees_of_freedom\n"
     ]
    }
   ],
   "source": [
    "#TODO need to move a seperate class\n",
    "\n",
    "from sklearn.feature_selection import  SelectKBest, f_regression, mutual_info_regression\n",
    "\n",
    "transformed_theta_feature = SelectKBest(f_regression,k=30).fit(trans_X,trans_Theta)\n",
    "transformed_phi_feature   = SelectKBest(f_regression,k=30).fit(trans_X,trans_Phi)\n",
    "\n",
    "theta_index = transformed_theta_feature.get_support()\n",
    "phi_index = transformed_phi_feature.get_support()\n",
    "\n",
    "X_train_theta_columns = trans_X.columns[theta_index]\n",
    "X_train_phi_columns = trans_X.columns[phi_index]\n",
    "\n",
    "\n",
    "theta_data = trans_X[X_train_theta_columns]\n",
    "phi_data = trans_X[X_train_phi_columns]"
   ]
  },
  {
   "cell_type": "markdown",
   "metadata": {
    "pycharm": {
     "name": "#%% md\n"
    }
   },
   "source": [
    "### AUTO ML implication\n",
    "\n",
    "Before move forward, let test it with ```auto-sklearn```\n",
    "\n",
    "\n",
    "#### train test split"
   ]
  },
  {
   "cell_type": "code",
   "execution_count": 12,
   "metadata": {
    "pycharm": {
     "name": "#%%\n"
    }
   },
   "outputs": [],
   "source": [
    "import sklearn\n",
    "X_train_theta, X_test_theta, y_train_theta, y_test_theta = \\\n",
    "            sklearn.model_selection.train_test_split(theta_data, trans_Theta, random_state=1)\n",
    "\n",
    "\n",
    "X_train_phi, X_test_phi, y_train_phi, y_test_phi = \\\n",
    "            sklearn.model_selection.train_test_split(phi_data, trans_Phi, random_state=1)"
   ]
  },
  {
   "cell_type": "markdown",
   "metadata": {
    "pycharm": {
     "name": "#%% md\n"
    }
   },
   "source": [
    "#### Step 1.  **train $\\theta$**\n"
   ]
  },
  {
   "cell_type": "code",
   "execution_count": 13,
   "metadata": {
    "pycharm": {
     "name": "#%%\n"
    }
   },
   "outputs": [
    {
     "name": "stdout",
     "output_type": "stream",
     "text": [
      "[WARNING] [2021-10-01 14:13:04,640:Client-AutoML(1):34d35611-22e3-11ec-9afd-b37f06f402a9] Time limit for a single run is higher than total time limit. Capping the limit for a single run to the total time given to SMAC (3599.536934)\n",
      "[WARNING] [2021-10-01 14:13:04,640:Client-AutoML(1):34d35611-22e3-11ec-9afd-b37f06f402a9] Capping the per_run_time_limit to 1799.0 to have time for a least 2 models in each process.\n"
     ]
    },
    {
     "data": {
      "text/plain": [
       "AutoSklearnRegressor(n_jobs=24, per_run_time_limit=8640,\n",
       "                     tmp_folder='./tmp/autosklearn_regression_example_tmp_theta')"
      ]
     },
     "execution_count": 13,
     "metadata": {},
     "output_type": "execute_result"
    }
   ],
   "source": [
    "import autosklearn.regression\n",
    "import sklearn.model_selection\n",
    "import sklearn.metrics\n",
    "import os\n",
    "\n",
    "automl_theta = autosklearn.regression.AutoSklearnRegressor(n_jobs=os.cpu_count(),tmp_folder='./tmp/autosklearn_regression_example_tmp_theta')\n",
    "\n",
    "automl_theta.fit(X=X_train_theta,y=y_train_theta,X_test=X_test_theta,y_test=y_test_theta)\n"
   ]
  },
  {
   "cell_type": "markdown",
   "metadata": {
    "pycharm": {
     "name": "#%% md\n"
    }
   },
   "source": [
    "#### Step 2.  **train $\\phi$**"
   ]
  },
  {
   "cell_type": "code",
   "execution_count": 15,
   "metadata": {
    "pycharm": {
     "name": "#%%\n"
    }
   },
   "outputs": [
    {
     "name": "stdout",
     "output_type": "stream",
     "text": [
      "[WARNING] [2021-10-01 15:13:07,245:Client-AutoML(1):9a643d26-22eb-11ec-9afd-b37f06f402a9] Time limit for a single run is higher than total time limit. Capping the limit for a single run to the total time given to SMAC (3599.555564)\n",
      "[WARNING] [2021-10-01 15:13:07,245:Client-AutoML(1):9a643d26-22eb-11ec-9afd-b37f06f402a9] Capping the per_run_time_limit to 1799.0 to have time for a least 2 models in each process.\n"
     ]
    },
    {
     "data": {
      "text/plain": [
       "AutoSklearnRegressor(n_jobs=24, per_run_time_limit=8640,\n",
       "                     tmp_folder='./tmp/autosklearn_regression_example_tmp_phi')"
      ]
     },
     "execution_count": 15,
     "metadata": {},
     "output_type": "execute_result"
    }
   ],
   "source": [
    "automl_phi = autosklearn.regression.AutoSklearnRegressor(n_jobs=os.cpu_count(),tmp_folder='./tmp/autosklearn_regression_example_tmp_phi')\n",
    "\n",
    "automl_phi.fit(X=X_train_phi,y=y_train_phi,X_test=X_test_phi,y_test=y_test_phi)"
   ]
  },
  {
   "cell_type": "markdown",
   "metadata": {
    "pycharm": {
     "name": "#%% md\n"
    }
   },
   "source": [
    "## test on the dataset\n",
    "\n",
    "* load the dataset\n",
    "* select the feature\n",
    "* select sieve holes\n",
    "* take average of the mean and std\n"
   ]
  },
  {
   "cell_type": "code",
   "execution_count": 40,
   "metadata": {
    "pycharm": {
     "name": "#%%\n"
    }
   },
   "outputs": [],
   "source": [
    "predicted_theta = automl_theta.predict(trans_X[X_train_theta_columns],n_jobs=os.cpu_count())\n",
    "predicted_phi   = automl_phi.predict(trans_X[X_train_phi_columns],n_jobs=os.cpu_count())"
   ]
  },
  {
   "cell_type": "code",
   "execution_count": 49,
   "metadata": {
    "pycharm": {
     "name": "#%%\n"
    }
   },
   "outputs": [
    {
     "data": {
      "text/html": [
       "<div>\n",
       "<style scoped>\n",
       "    .dataframe tbody tr th:only-of-type {\n",
       "        vertical-align: middle;\n",
       "    }\n",
       "\n",
       "    .dataframe tbody tr th {\n",
       "        vertical-align: top;\n",
       "    }\n",
       "\n",
       "    .dataframe thead th {\n",
       "        text-align: right;\n",
       "    }\n",
       "</style>\n",
       "<table border=\"1\" class=\"dataframe\">\n",
       "  <thead>\n",
       "    <tr style=\"text-align: right;\">\n",
       "      <th></th>\n",
       "      <th>evtID</th>\n",
       "      <th>runID</th>\n",
       "      <th>CutID</th>\n",
       "      <th>SieveRowID</th>\n",
       "      <th>SieveColID</th>\n",
       "      <th>bpmX</th>\n",
       "      <th>bpmY</th>\n",
       "      <th>focal_x</th>\n",
       "      <th>focal_y</th>\n",
       "      <th>focal_th</th>\n",
       "      <th>focal_ph</th>\n",
       "      <th>targCalTh</th>\n",
       "      <th>targCalPh</th>\n",
       "      <th>predicted_theta</th>\n",
       "      <th>predicted_phi</th>\n",
       "    </tr>\n",
       "  </thead>\n",
       "  <tbody>\n",
       "    <tr>\n",
       "      <th>0</th>\n",
       "      <td>0</td>\n",
       "      <td>21743</td>\n",
       "      <td>253</td>\n",
       "      <td>1</td>\n",
       "      <td>8</td>\n",
       "      <td>0.000290</td>\n",
       "      <td>-0.001503</td>\n",
       "      <td>-0.301587</td>\n",
       "      <td>0.016011</td>\n",
       "      <td>0.012192</td>\n",
       "      <td>0.000739</td>\n",
       "      <td>-0.029615</td>\n",
       "      <td>-0.006545</td>\n",
       "      <td>-0.028243</td>\n",
       "      <td>-0.006681</td>\n",
       "    </tr>\n",
       "    <tr>\n",
       "      <th>1</th>\n",
       "      <td>1</td>\n",
       "      <td>21743</td>\n",
       "      <td>226</td>\n",
       "      <td>2</td>\n",
       "      <td>4</td>\n",
       "      <td>0.000290</td>\n",
       "      <td>-0.001503</td>\n",
       "      <td>-0.037429</td>\n",
       "      <td>-0.007679</td>\n",
       "      <td>0.001400</td>\n",
       "      <td>0.011046</td>\n",
       "      <td>-0.009243</td>\n",
       "      <td>0.008405</td>\n",
       "      <td>-0.009033</td>\n",
       "      <td>0.008467</td>\n",
       "    </tr>\n",
       "    <tr>\n",
       "      <th>2</th>\n",
       "      <td>2</td>\n",
       "      <td>21743</td>\n",
       "      <td>254</td>\n",
       "      <td>2</td>\n",
       "      <td>8</td>\n",
       "      <td>0.000290</td>\n",
       "      <td>-0.001503</td>\n",
       "      <td>-0.283216</td>\n",
       "      <td>0.012550</td>\n",
       "      <td>0.004096</td>\n",
       "      <td>-0.000475</td>\n",
       "      <td>-0.016034</td>\n",
       "      <td>-0.006545</td>\n",
       "      <td>-0.014607</td>\n",
       "      <td>-0.006306</td>\n",
       "    </tr>\n",
       "    <tr>\n",
       "      <th>3</th>\n",
       "      <td>3</td>\n",
       "      <td>21743</td>\n",
       "      <td>241</td>\n",
       "      <td>3</td>\n",
       "      <td>6</td>\n",
       "      <td>0.000290</td>\n",
       "      <td>-0.001503</td>\n",
       "      <td>-0.249758</td>\n",
       "      <td>0.006722</td>\n",
       "      <td>-0.003607</td>\n",
       "      <td>0.006061</td>\n",
       "      <td>-0.002452</td>\n",
       "      <td>-0.000295</td>\n",
       "      <td>-0.000464</td>\n",
       "      <td>-0.000317</td>\n",
       "    </tr>\n",
       "    <tr>\n",
       "      <th>4</th>\n",
       "      <td>4</td>\n",
       "      <td>21743</td>\n",
       "      <td>243</td>\n",
       "      <td>5</td>\n",
       "      <td>6</td>\n",
       "      <td>0.000290</td>\n",
       "      <td>-0.001503</td>\n",
       "      <td>-0.163223</td>\n",
       "      <td>0.010093</td>\n",
       "      <td>-0.018091</td>\n",
       "      <td>0.009351</td>\n",
       "      <td>0.024711</td>\n",
       "      <td>-0.000295</td>\n",
       "      <td>0.025038</td>\n",
       "      <td>-0.000633</td>\n",
       "    </tr>\n",
       "    <tr>\n",
       "      <th>...</th>\n",
       "      <td>...</td>\n",
       "      <td>...</td>\n",
       "      <td>...</td>\n",
       "      <td>...</td>\n",
       "      <td>...</td>\n",
       "      <td>...</td>\n",
       "      <td>...</td>\n",
       "      <td>...</td>\n",
       "      <td>...</td>\n",
       "      <td>...</td>\n",
       "      <td>...</td>\n",
       "      <td>...</td>\n",
       "      <td>...</td>\n",
       "      <td>...</td>\n",
       "      <td>...</td>\n",
       "    </tr>\n",
       "    <tr>\n",
       "      <th>384911</th>\n",
       "      <td>22647</td>\n",
       "      <td>21785</td>\n",
       "      <td>185</td>\n",
       "      <td>3</td>\n",
       "      <td>12</td>\n",
       "      <td>0.000293</td>\n",
       "      <td>-0.000510</td>\n",
       "      <td>-0.174756</td>\n",
       "      <td>0.025478</td>\n",
       "      <td>-0.008025</td>\n",
       "      <td>-0.021762</td>\n",
       "      <td>0.005959</td>\n",
       "      <td>-0.022172</td>\n",
       "      <td>0.005528</td>\n",
       "      <td>-0.022044</td>\n",
       "    </tr>\n",
       "    <tr>\n",
       "      <th>384912</th>\n",
       "      <td>22657</td>\n",
       "      <td>21785</td>\n",
       "      <td>185</td>\n",
       "      <td>3</td>\n",
       "      <td>12</td>\n",
       "      <td>0.000293</td>\n",
       "      <td>-0.000510</td>\n",
       "      <td>0.002110</td>\n",
       "      <td>0.028486</td>\n",
       "      <td>-0.008300</td>\n",
       "      <td>-0.016913</td>\n",
       "      <td>0.005959</td>\n",
       "      <td>-0.022172</td>\n",
       "      <td>0.006406</td>\n",
       "      <td>-0.022164</td>\n",
       "    </tr>\n",
       "    <tr>\n",
       "      <th>384913</th>\n",
       "      <td>22669</td>\n",
       "      <td>21785</td>\n",
       "      <td>185</td>\n",
       "      <td>3</td>\n",
       "      <td>12</td>\n",
       "      <td>0.000293</td>\n",
       "      <td>-0.000510</td>\n",
       "      <td>-0.139748</td>\n",
       "      <td>0.026431</td>\n",
       "      <td>-0.008081</td>\n",
       "      <td>-0.021064</td>\n",
       "      <td>0.005959</td>\n",
       "      <td>-0.022172</td>\n",
       "      <td>0.005781</td>\n",
       "      <td>-0.022086</td>\n",
       "    </tr>\n",
       "    <tr>\n",
       "      <th>384914</th>\n",
       "      <td>22670</td>\n",
       "      <td>21785</td>\n",
       "      <td>185</td>\n",
       "      <td>3</td>\n",
       "      <td>12</td>\n",
       "      <td>0.000293</td>\n",
       "      <td>-0.000510</td>\n",
       "      <td>-0.211684</td>\n",
       "      <td>0.026189</td>\n",
       "      <td>-0.006892</td>\n",
       "      <td>-0.020195</td>\n",
       "      <td>0.005959</td>\n",
       "      <td>-0.022172</td>\n",
       "      <td>0.005060</td>\n",
       "      <td>-0.022004</td>\n",
       "    </tr>\n",
       "    <tr>\n",
       "      <th>384915</th>\n",
       "      <td>22689</td>\n",
       "      <td>21785</td>\n",
       "      <td>185</td>\n",
       "      <td>3</td>\n",
       "      <td>12</td>\n",
       "      <td>0.000293</td>\n",
       "      <td>-0.000510</td>\n",
       "      <td>-0.087144</td>\n",
       "      <td>0.027267</td>\n",
       "      <td>-0.008128</td>\n",
       "      <td>-0.019076</td>\n",
       "      <td>0.005959</td>\n",
       "      <td>-0.022172</td>\n",
       "      <td>0.005690</td>\n",
       "      <td>-0.021990</td>\n",
       "    </tr>\n",
       "  </tbody>\n",
       "</table>\n",
       "<p>384916 rows × 15 columns</p>\n",
       "</div>"
      ],
      "text/plain": [
       "        evtID  runID  CutID  SieveRowID  SieveColID      bpmX      bpmY  \\\n",
       "0           0  21743    253           1           8  0.000290 -0.001503   \n",
       "1           1  21743    226           2           4  0.000290 -0.001503   \n",
       "2           2  21743    254           2           8  0.000290 -0.001503   \n",
       "3           3  21743    241           3           6  0.000290 -0.001503   \n",
       "4           4  21743    243           5           6  0.000290 -0.001503   \n",
       "...       ...    ...    ...         ...         ...       ...       ...   \n",
       "384911  22647  21785    185           3          12  0.000293 -0.000510   \n",
       "384912  22657  21785    185           3          12  0.000293 -0.000510   \n",
       "384913  22669  21785    185           3          12  0.000293 -0.000510   \n",
       "384914  22670  21785    185           3          12  0.000293 -0.000510   \n",
       "384915  22689  21785    185           3          12  0.000293 -0.000510   \n",
       "\n",
       "         focal_x   focal_y  focal_th  focal_ph  targCalTh  targCalPh  \\\n",
       "0      -0.301587  0.016011  0.012192  0.000739  -0.029615  -0.006545   \n",
       "1      -0.037429 -0.007679  0.001400  0.011046  -0.009243   0.008405   \n",
       "2      -0.283216  0.012550  0.004096 -0.000475  -0.016034  -0.006545   \n",
       "3      -0.249758  0.006722 -0.003607  0.006061  -0.002452  -0.000295   \n",
       "4      -0.163223  0.010093 -0.018091  0.009351   0.024711  -0.000295   \n",
       "...          ...       ...       ...       ...        ...        ...   \n",
       "384911 -0.174756  0.025478 -0.008025 -0.021762   0.005959  -0.022172   \n",
       "384912  0.002110  0.028486 -0.008300 -0.016913   0.005959  -0.022172   \n",
       "384913 -0.139748  0.026431 -0.008081 -0.021064   0.005959  -0.022172   \n",
       "384914 -0.211684  0.026189 -0.006892 -0.020195   0.005959  -0.022172   \n",
       "384915 -0.087144  0.027267 -0.008128 -0.019076   0.005959  -0.022172   \n",
       "\n",
       "        predicted_theta  predicted_phi  \n",
       "0             -0.028243      -0.006681  \n",
       "1             -0.009033       0.008467  \n",
       "2             -0.014607      -0.006306  \n",
       "3             -0.000464      -0.000317  \n",
       "4              0.025038      -0.000633  \n",
       "...                 ...            ...  \n",
       "384911         0.005528      -0.022044  \n",
       "384912         0.006406      -0.022164  \n",
       "384913         0.005781      -0.022086  \n",
       "384914         0.005060      -0.022004  \n",
       "384915         0.005690      -0.021990  \n",
       "\n",
       "[384916 rows x 15 columns]"
      ]
     },
     "execution_count": 49,
     "metadata": {},
     "output_type": "execute_result"
    }
   ],
   "source": [
    "fulldata = dataInitial.copy()\n",
    "\n",
    "fulldata['predicted_theta'] = predicted_theta\n",
    "fulldata['predicted_phi']  = predicted_phi\n",
    "\n",
    "fulldata\n"
   ]
  },
  {
   "cell_type": "code",
   "execution_count": 58,
   "metadata": {
    "pycharm": {
     "name": "#%%\n"
    }
   },
   "outputs": [
    {
     "data": {
      "image/png": "[encoded data removed]",
      "text/plain": [
       "<Figure size 1080x1080 with 7 Axes>"
      ]
     },
     "metadata": {
      "needs_background": "light"
     },
     "output_type": "display_data"
    }
   ],
   "source": [
    "import matplotlib.pyplot as plt\n",
    "import matplotlib.gridspec as gridspec\n",
    "\n",
    "fig = plt.figure(figsize=[15,15])\n",
    "gs = gridspec.GridSpec(nrows=3, ncols=3, height_ratios=[1, 1, 1])\n",
    "\n",
    "plotArr  = {gs[0,0]:21743, gs[0,1]:21744,gs[0,2]:21748,gs[1,0]:21749,gs[1,1]:21752,gs[1,2]:21755,gs[2,0]:21756}\n",
    "subplot ={}\n",
    "\n",
    "\n",
    "for key, runID in plotArr.items():\n",
    "    currentdata = fulldata[fulldata.runID.eq(runID)]\n",
    "    subplot[runID] =fig.add_subplot(key)\n",
    "    subplot[runID].hist2d(currentdata['predicted_phi'],currentdata['predicted_theta'],bins=300,cmap=plt.cm.BuPu)\n",
    "    subplot[runID].scatter(currentdata['targCalPh'],currentdata['targCalTh'])\n",
    "    subplot[runID].set_title(\"Optimized Run {}\".format(runID))\n",
    "\n",
    "plt.tight_layout()\n",
    "plt.show()"
   ]
  },
  {
   "cell_type": "markdown",
   "source": [
    "## Save  the model"
   ],
   "metadata": {
    "collapsed": false,
    "pycharm": {
     "name": "#%% md\n"
    }
   }
  },
  {
   "cell_type": "code",
   "source": [
    "runList = dataInitial['runID'].unique()\n",
    "\n",
    "for currentrun in runList:\n",
    "    currentdata = fulldata[fulldata.runID.eq(currentrun)]\n",
    "    currentdata.to_csv(\"../result/trainRes_run_{}.csv\".format(currentrun),index=False)"
   ],
   "metadata": {
    "collapsed": false,
    "pycharm": {
     "name": "#%%\n"
    }
   },
   "execution_count": 70,
   "outputs": []
  }
 ],
 "metadata": {
  "kernelspec": {
   "display_name": "Python 3 (ipykernel)",
   "language": "python",
   "name": "python3"
  },
  "language_info": {
   "codemirror_mode": {
    "name": "ipython",
    "version": 3
   },
   "file_extension": ".py",
   "mimetype": "text/x-python",
   "name": "python",
   "nbconvert_exporter": "python",
   "pygments_lexer": "ipython3",
   "version": "3.8.10"
  }
 },
 "nbformat": 4,
 "nbformat_minor": 1
}